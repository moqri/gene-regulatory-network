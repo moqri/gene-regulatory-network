{
  "nbformat": 4,
  "nbformat_minor": 0,
  "metadata": {
    "colab": {
      "name": "Yeast_TF_Network.ipynb",
      "provenance": [],
      "collapsed_sections": [],
      "authorship_tag": "ABX9TyNOIpZDaymgzo/0YMb4C0uk",
      "include_colab_link": true
    },
    "kernelspec": {
      "name": "python3",
      "display_name": "Python 3"
    }
  },
  "cells": [
    {
      "cell_type": "markdown",
      "metadata": {
        "id": "view-in-github",
        "colab_type": "text"
      },
      "source": [
        "<a href=\"https://colab.research.google.com/github/moqri/gene-regulatory-network/blob/master/Yeast_TF_Network.ipynb\" target=\"_parent\"><img src=\"https://colab.research.google.com/assets/colab-badge.svg\" alt=\"Open In Colab\"/></a>"
      ]
    },
    {
      "cell_type": "code",
      "metadata": {
        "id": "e17IOTQ03eGS",
        "colab_type": "code",
        "colab": {
          "base_uri": "https://localhost:8080/",
          "height": 272
        },
        "outputId": "05ff2b00-f9e9-4c9e-c7ed-f3f2289dee9b"
      },
      "source": [
        "!wget -O expression.zip -nc https://storage.googleapis.com/calico-website-pin-public-bucket/datasets/idea_tall_expression_data.zip\n",
        "!unzip -n expression.zip"
      ],
      "execution_count": 1,
      "outputs": [
        {
          "output_type": "stream",
          "text": [
            "--2020-06-02 16:30:21--  https://storage.googleapis.com/calico-website-pin-public-bucket/datasets/idea_tall_expression_data.zip\n",
            "Resolving storage.googleapis.com (storage.googleapis.com)... 173.194.216.128, 2607:f8b0:400c:c1a::80\n",
            "Connecting to storage.googleapis.com (storage.googleapis.com)|173.194.216.128|:443... connected.\n",
            "HTTP request sent, awaiting response... 200 OK\n",
            "Length: 368238973 (351M) [application/zip]\n",
            "Saving to: ‘induction.zip’\n",
            "\n",
            "induction.zip       100%[===================>] 351.18M  45.7MB/s    in 9.3s    \n",
            "\n",
            "2020-06-02 16:30:32 (37.8 MB/s) - ‘induction.zip’ saved [368238973/368238973]\n",
            "\n",
            "Archive:  induction.zip\n",
            "  inflating: idea_tall_expression_data.tsv  \n",
            "   creating: __MACOSX/\n",
            "  inflating: __MACOSX/._idea_tall_expression_data.tsv  \n"
          ],
          "name": "stdout"
        }
      ]
    },
    {
      "cell_type": "code",
      "metadata": {
        "id": "ZdpfW05g3obG",
        "colab_type": "code",
        "colab": {
          "base_uri": "https://localhost:8080/",
          "height": 34
        },
        "outputId": "f507393f-b989-4e91-c98d-b4055707153b"
      },
      "source": [
        "import pandas as pd\n",
        "expression_df=pd.read_table('idea_tall_expression_data.tsv')\n",
        "expression_df.shape"
      ],
      "execution_count": 97,
      "outputs": [
        {
          "output_type": "execute_result",
          "data": {
            "text/plain": [
              "(10454275, 15)"
            ]
          },
          "metadata": {
            "tags": []
          },
          "execution_count": 97
        }
      ]
    },
    {
      "cell_type": "code",
      "metadata": {
        "id": "Y8by0Bgi4DcP",
        "colab_type": "code",
        "colab": {
          "base_uri": "https://localhost:8080/",
          "height": 34
        },
        "outputId": "4baaa917-a1ac-4024-e426-79ffa6e0d660"
      },
      "source": [
        "df=expression_df[expression_df.GeneName.isin(set(expression_df.TF))]\n",
        "df.shape"
      ],
      "execution_count": 146,
      "outputs": [
        {
          "output_type": "execute_result",
          "data": {
            "text/plain": [
              "(340293, 15)"
            ]
          },
          "metadata": {
            "tags": []
          },
          "execution_count": 146
        }
      ]
    },
    {
      "cell_type": "code",
      "metadata": {
        "id": "jfwoLcyF3yzN",
        "colab_type": "code",
        "colab": {
          "base_uri": "https://localhost:8080/",
          "height": 34
        },
        "outputId": "0bfa96ae-1229-44a1-fa06-7151246b9f88"
      },
      "source": [
        "df=df[df.time==45]\n",
        "df.shape"
      ],
      "execution_count": 147,
      "outputs": [
        {
          "output_type": "execute_result",
          "data": {
            "text/plain": [
              "(42813, 15)"
            ]
          },
          "metadata": {
            "tags": []
          },
          "execution_count": 147
        }
      ]
    },
    {
      "cell_type": "code",
      "metadata": {
        "id": "a5m4jNT05CJh",
        "colab_type": "code",
        "colab": {
          "base_uri": "https://localhost:8080/",
          "height": 419
        },
        "outputId": "98f40025-f5ba-40e3-b5d3-0cd0e4f44c07"
      },
      "source": [
        "cols=['TF','GeneName','log2_shrunken_timecourses']\n",
        "df=df[cols]\n",
        "df"
      ],
      "execution_count": 148,
      "outputs": [
        {
          "output_type": "execute_result",
          "data": {
            "text/html": [
              "<div>\n",
              "<style scoped>\n",
              "    .dataframe tbody tr th:only-of-type {\n",
              "        vertical-align: middle;\n",
              "    }\n",
              "\n",
              "    .dataframe tbody tr th {\n",
              "        vertical-align: top;\n",
              "    }\n",
              "\n",
              "    .dataframe thead th {\n",
              "        text-align: right;\n",
              "    }\n",
              "</style>\n",
              "<table border=\"1\" class=\"dataframe\">\n",
              "  <thead>\n",
              "    <tr style=\"text-align: right;\">\n",
              "      <th></th>\n",
              "      <th>TF</th>\n",
              "      <th>GeneName</th>\n",
              "      <th>log2_shrunken_timecourses</th>\n",
              "    </tr>\n",
              "  </thead>\n",
              "  <tbody>\n",
              "    <tr>\n",
              "      <th>182</th>\n",
              "      <td>ACA1</td>\n",
              "      <td>ACA1</td>\n",
              "      <td>5.188579</td>\n",
              "    </tr>\n",
              "    <tr>\n",
              "      <th>206</th>\n",
              "      <td>ACA1</td>\n",
              "      <td>ACE2</td>\n",
              "      <td>0.000000</td>\n",
              "    </tr>\n",
              "    <tr>\n",
              "      <th>310</th>\n",
              "      <td>ACA1</td>\n",
              "      <td>ADA2</td>\n",
              "      <td>0.000000</td>\n",
              "    </tr>\n",
              "    <tr>\n",
              "      <th>518</th>\n",
              "      <td>ACA1</td>\n",
              "      <td>ADR1</td>\n",
              "      <td>0.000000</td>\n",
              "    </tr>\n",
              "    <tr>\n",
              "      <th>622</th>\n",
              "      <td>ACA1</td>\n",
              "      <td>AFT1</td>\n",
              "      <td>0.000000</td>\n",
              "    </tr>\n",
              "    <tr>\n",
              "      <th>...</th>\n",
              "      <td>...</td>\n",
              "      <td>...</td>\n",
              "      <td>...</td>\n",
              "    </tr>\n",
              "    <tr>\n",
              "      <th>10452889</th>\n",
              "      <td>ZNF1</td>\n",
              "      <td>YOX1</td>\n",
              "      <td>0.000000</td>\n",
              "    </tr>\n",
              "    <tr>\n",
              "      <th>10453953</th>\n",
              "      <td>ZNF1</td>\n",
              "      <td>YRM1</td>\n",
              "      <td>0.000000</td>\n",
              "    </tr>\n",
              "    <tr>\n",
              "      <th>10453969</th>\n",
              "      <td>ZNF1</td>\n",
              "      <td>YRR1</td>\n",
              "      <td>0.000000</td>\n",
              "    </tr>\n",
              "    <tr>\n",
              "      <th>10454129</th>\n",
              "      <td>ZNF1</td>\n",
              "      <td>ZAP1</td>\n",
              "      <td>0.000000</td>\n",
              "    </tr>\n",
              "    <tr>\n",
              "      <th>10454185</th>\n",
              "      <td>ZNF1</td>\n",
              "      <td>ZNF1</td>\n",
              "      <td>3.275457</td>\n",
              "    </tr>\n",
              "  </tbody>\n",
              "</table>\n",
              "<p>42813 rows × 3 columns</p>\n",
              "</div>"
            ],
            "text/plain": [
              "            TF GeneName  log2_shrunken_timecourses\n",
              "182       ACA1     ACA1                   5.188579\n",
              "206       ACA1     ACE2                   0.000000\n",
              "310       ACA1     ADA2                   0.000000\n",
              "518       ACA1     ADR1                   0.000000\n",
              "622       ACA1     AFT1                   0.000000\n",
              "...        ...      ...                        ...\n",
              "10452889  ZNF1     YOX1                   0.000000\n",
              "10453953  ZNF1     YRM1                   0.000000\n",
              "10453969  ZNF1     YRR1                   0.000000\n",
              "10454129  ZNF1     ZAP1                   0.000000\n",
              "10454185  ZNF1     ZNF1                   3.275457\n",
              "\n",
              "[42813 rows x 3 columns]"
            ]
          },
          "metadata": {
            "tags": []
          },
          "execution_count": 148
        }
      ]
    },
    {
      "cell_type": "code",
      "metadata": {
        "id": "B00gPbLi5j7E",
        "colab_type": "code",
        "colab": {
          "base_uri": "https://localhost:8080/",
          "height": 255
        },
        "outputId": "6e2c2b2c-c3cb-4008-b3d4-f77ab5bb9150"
      },
      "source": [
        "df=df[df.log2_shrunken_timecourses>0]\n",
        "df = df[df.TF != df.GeneName]\n",
        "df=df.groupby(['TF','GeneName']).mean().reset_index()\n",
        "df.sort_values"
      ],
      "execution_count": 149,
      "outputs": [
        {
          "output_type": "execute_result",
          "data": {
            "text/plain": [
              "<bound method DataFrame.sort_values of         TF GeneName  log2_shrunken_timecourses\n",
              "0     ACA1     CIN5                   5.415510\n",
              "1     ACA1     GAT2                   1.186696\n",
              "2     ACA1     GSM1                   0.599660\n",
              "3     ACA1     HAP4                   1.103500\n",
              "4     ACA1     HMS1                   0.370246\n",
              "...    ...      ...                        ...\n",
              "1395  ZAP1     MGA1                   1.642818\n",
              "1396  ZAP1     MIG2                   1.024218\n",
              "1397  ZAP1     MOT3                   0.550957\n",
              "1398  ZAP1     MTF1                   0.289526\n",
              "1399  ZAP1     RPH1                   0.775392\n",
              "\n",
              "[1400 rows x 3 columns]>"
            ]
          },
          "metadata": {
            "tags": []
          },
          "execution_count": 149
        }
      ]
    },
    {
      "cell_type": "code",
      "metadata": {
        "id": "vAlWUjit8l80",
        "colab_type": "code",
        "colab": {
          "base_uri": "https://localhost:8080/",
          "height": 266
        },
        "outputId": "4fca6788-6f2a-4c71-f1d6-bc9465818c4b"
      },
      "source": [
        "df[df.TF=='TEC1']"
      ],
      "execution_count": 155,
      "outputs": [
        {
          "output_type": "execute_result",
          "data": {
            "text/html": [
              "<div>\n",
              "<style scoped>\n",
              "    .dataframe tbody tr th:only-of-type {\n",
              "        vertical-align: middle;\n",
              "    }\n",
              "\n",
              "    .dataframe tbody tr th {\n",
              "        vertical-align: top;\n",
              "    }\n",
              "\n",
              "    .dataframe thead th {\n",
              "        text-align: right;\n",
              "    }\n",
              "</style>\n",
              "<table border=\"1\" class=\"dataframe\">\n",
              "  <thead>\n",
              "    <tr style=\"text-align: right;\">\n",
              "      <th></th>\n",
              "      <th>TF</th>\n",
              "      <th>GeneName</th>\n",
              "      <th>log2_shrunken_timecourses</th>\n",
              "    </tr>\n",
              "  </thead>\n",
              "  <tbody>\n",
              "    <tr>\n",
              "      <th>1281</th>\n",
              "      <td>TEC1</td>\n",
              "      <td>DAL80</td>\n",
              "      <td>0.606287</td>\n",
              "    </tr>\n",
              "    <tr>\n",
              "      <th>1282</th>\n",
              "      <td>TEC1</td>\n",
              "      <td>FLO8</td>\n",
              "      <td>0.325697</td>\n",
              "    </tr>\n",
              "    <tr>\n",
              "      <th>1283</th>\n",
              "      <td>TEC1</td>\n",
              "      <td>GRX3</td>\n",
              "      <td>0.377927</td>\n",
              "    </tr>\n",
              "    <tr>\n",
              "      <th>1284</th>\n",
              "      <td>TEC1</td>\n",
              "      <td>KSS1</td>\n",
              "      <td>0.644883</td>\n",
              "    </tr>\n",
              "    <tr>\n",
              "      <th>1285</th>\n",
              "      <td>TEC1</td>\n",
              "      <td>STE12</td>\n",
              "      <td>0.932176</td>\n",
              "    </tr>\n",
              "    <tr>\n",
              "      <th>1286</th>\n",
              "      <td>TEC1</td>\n",
              "      <td>SUT2</td>\n",
              "      <td>0.522930</td>\n",
              "    </tr>\n",
              "    <tr>\n",
              "      <th>1287</th>\n",
              "      <td>TEC1</td>\n",
              "      <td>YHP1</td>\n",
              "      <td>0.303219</td>\n",
              "    </tr>\n",
              "  </tbody>\n",
              "</table>\n",
              "</div>"
            ],
            "text/plain": [
              "        TF GeneName  log2_shrunken_timecourses\n",
              "1281  TEC1    DAL80                   0.606287\n",
              "1282  TEC1     FLO8                   0.325697\n",
              "1283  TEC1     GRX3                   0.377927\n",
              "1284  TEC1     KSS1                   0.644883\n",
              "1285  TEC1    STE12                   0.932176\n",
              "1286  TEC1     SUT2                   0.522930\n",
              "1287  TEC1     YHP1                   0.303219"
            ]
          },
          "metadata": {
            "tags": []
          },
          "execution_count": 155
        }
      ]
    }
  ]
}