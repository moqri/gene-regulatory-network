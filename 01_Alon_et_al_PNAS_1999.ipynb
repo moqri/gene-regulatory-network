{
  "nbformat": 4,
  "nbformat_minor": 0,
  "metadata": {
    "colab": {
      "name": "01_Alon_et_al_PNAS_1999.ipynb",
      "provenance": [],
      "collapsed_sections": [],
      "authorship_tag": "ABX9TyOn7nYp9ZyAk507EFrpITX9",
      "include_colab_link": true
    },
    "kernelspec": {
      "name": "python3",
      "display_name": "Python 3"
    }
  },
  "cells": [
    {
      "cell_type": "markdown",
      "metadata": {
        "id": "view-in-github",
        "colab_type": "text"
      },
      "source": [
        "<a href=\"https://colab.research.google.com/github/moqri/gene-regulatory-network/blob/master/01_Alon_et_al_PNAS_1999.ipynb\" target=\"_parent\"><img src=\"https://colab.research.google.com/assets/colab-badge.svg\" alt=\"Open In Colab\"/></a>"
      ]
    },
    {
      "cell_type": "markdown",
      "metadata": {
        "id": "UJUOssTVl4o_",
        "colab_type": "text"
      },
      "source": [
        "# Broad patterns of gene expression revealed by clustering analysis of tumor and normal colon tissues probed by oligonucleotide arrays\n",
        "\n",
        "https://www.pnas.org/content/96/12/6745"
      ]
    },
    {
      "cell_type": "markdown",
      "metadata": {
        "id": "iOioRyG3lTpO",
        "colab_type": "text"
      },
      "source": [
        "Figure 1.\n",
        "\n",
        "![alt text](https://www.pnas.org/content/pnas/96/12/6745/F1.medium.gif\n",
        ")"
      ]
    },
    {
      "cell_type": "markdown",
      "metadata": {
        "id": "cVq0vcjUlvrZ",
        "colab_type": "text"
      },
      "source": [
        "Replication using data from https://www.pnas.org/content/95/25/14863"
      ]
    },
    {
      "cell_type": "code",
      "metadata": {
        "id": "ujiyrrF9iygU",
        "colab_type": "code",
        "outputId": "426628fb-010e-4ad9-f67a-6904015d9094",
        "colab": {
          "base_uri": "https://localhost:8080/",
          "height": 34
        }
      },
      "source": [
        "!wget -nc -O array.xls https://www.pnas.org/highwire/filestream/584765/field_highwire_adjunct_files/1/3917data.xls "
      ],
      "execution_count": 1,
      "outputs": [
        {
          "output_type": "stream",
          "text": [
            "File ‘array.xls’ already there; not retrieving.\n"
          ],
          "name": "stdout"
        }
      ]
    },
    {
      "cell_type": "code",
      "metadata": {
        "id": "wlPL8EzCjtxx",
        "colab_type": "code",
        "outputId": "31ef6f7a-87f3-4143-e504-6d7a3ea1ebbd",
        "colab": {
          "base_uri": "https://localhost:8080/",
          "height": 235
        }
      },
      "source": [
        "import pandas as pd\n",
        "array=pd.read_excel('array.xls',index_col=0,skiprows=2)\n",
        "array.iloc[:5,:5]"
      ],
      "execution_count": 2,
      "outputs": [
        {
          "output_type": "execute_result",
          "data": {
            "text/html": [
              "<div>\n",
              "<style scoped>\n",
              "    .dataframe tbody tr th:only-of-type {\n",
              "        vertical-align: middle;\n",
              "    }\n",
              "\n",
              "    .dataframe tbody tr th {\n",
              "        vertical-align: top;\n",
              "    }\n",
              "\n",
              "    .dataframe thead th {\n",
              "        text-align: right;\n",
              "    }\n",
              "</style>\n",
              "<table border=\"1\" class=\"dataframe\">\n",
              "  <thead>\n",
              "    <tr style=\"text-align: right;\">\n",
              "      <th></th>\n",
              "      <th>NAME</th>\n",
              "      <th>alpha 0</th>\n",
              "      <th>alpha 7</th>\n",
              "      <th>alpha 14</th>\n",
              "      <th>alpha 21</th>\n",
              "    </tr>\n",
              "    <tr>\n",
              "      <th>ORF</th>\n",
              "      <th></th>\n",
              "      <th></th>\n",
              "      <th></th>\n",
              "      <th></th>\n",
              "      <th></th>\n",
              "    </tr>\n",
              "  </thead>\n",
              "  <tbody>\n",
              "    <tr>\n",
              "      <th>YBR166C</th>\n",
              "      <td>TYR1   TYROSINE BIOSYNTHESIS    PREPHENATE DEH...</td>\n",
              "      <td>0.33</td>\n",
              "      <td>-0.17</td>\n",
              "      <td>0.04</td>\n",
              "      <td>-0.07</td>\n",
              "    </tr>\n",
              "    <tr>\n",
              "      <th>YOR357C</th>\n",
              "      <td>GRD19  SECRETION        GOLGI PROTEIN RETENTION</td>\n",
              "      <td>-0.64</td>\n",
              "      <td>-0.38</td>\n",
              "      <td>-0.32</td>\n",
              "      <td>-0.29</td>\n",
              "    </tr>\n",
              "    <tr>\n",
              "      <th>YLR292C</th>\n",
              "      <td>SEC72  SECRETION        ER PROTEIN TRANSLOCATI...</td>\n",
              "      <td>-0.23</td>\n",
              "      <td>0.19</td>\n",
              "      <td>-0.36</td>\n",
              "      <td>0.14</td>\n",
              "    </tr>\n",
              "    <tr>\n",
              "      <th>YGL112C</th>\n",
              "      <td>TAF60  TRANSCRIPTION       TFIID 60 KD SUBUNIT</td>\n",
              "      <td>-0.69</td>\n",
              "      <td>-0.89</td>\n",
              "      <td>-0.74</td>\n",
              "      <td>-0.56</td>\n",
              "    </tr>\n",
              "    <tr>\n",
              "      <th>YIL118W</th>\n",
              "      <td>RHO3   CYTOSKELETON        GTP-BINDING PROTEIN...</td>\n",
              "      <td>0.04</td>\n",
              "      <td>0.01</td>\n",
              "      <td>-0.81</td>\n",
              "      <td>NaN</td>\n",
              "    </tr>\n",
              "  </tbody>\n",
              "</table>\n",
              "</div>"
            ],
            "text/plain": [
              "                                                      NAME  ...  alpha 21\n",
              "ORF                                                         ...          \n",
              "YBR166C  TYR1   TYROSINE BIOSYNTHESIS    PREPHENATE DEH...  ...     -0.07\n",
              "YOR357C    GRD19  SECRETION        GOLGI PROTEIN RETENTION  ...     -0.29\n",
              "YLR292C  SEC72  SECRETION        ER PROTEIN TRANSLOCATI...  ...      0.14\n",
              "YGL112C     TAF60  TRANSCRIPTION       TFIID 60 KD SUBUNIT  ...     -0.56\n",
              "YIL118W  RHO3   CYTOSKELETON        GTP-BINDING PROTEIN...  ...       NaN\n",
              "\n",
              "[5 rows x 5 columns]"
            ]
          },
          "metadata": {
            "tags": []
          },
          "execution_count": 2
        }
      ]
    },
    {
      "cell_type": "code",
      "metadata": {
        "id": "h39LXcC1pdF_",
        "colab_type": "code",
        "outputId": "e5fcf23e-279b-4400-d3f4-dae22f50422b",
        "colab": {
          "base_uri": "https://localhost:8080/",
          "height": 296
        }
      },
      "source": [
        "import re\n",
        "cleaned_names=[re.sub('  ', '_',name).split('_')[-1].strip() for name in array.NAME ]\n",
        "array.index=cleaned_names\n",
        "df=array.drop('NAME',1).transpose()\n",
        "df.plot.scatter('RIBOSOMAL PROTEIN L22A','RIBOSOMAL PROTEIN L3')"
      ],
      "execution_count": 3,
      "outputs": [
        {
          "output_type": "execute_result",
          "data": {
            "text/plain": [
              "<matplotlib.axes._subplots.AxesSubplot at 0x7f1567912b00>"
            ]
          },
          "metadata": {
            "tags": []
          },
          "execution_count": 3
        },
        {
          "output_type": "display_data",
          "data": {
            "image/png": "[encoded data removed]",
            "text/plain": [
              "<Figure size 432x288 with 1 Axes>"
            ]
          },
          "metadata": {
            "tags": [],
            "needs_background": "light"
          }
        }
      ]
    },
    {
      "cell_type": "markdown",
      "metadata": {
        "id": "CqSkTWHHtu5x",
        "colab_type": "text"
      },
      "source": [
        "Find highest pair-wise correlations:"
      ]
    },
    {
      "cell_type": "code",
      "metadata": {
        "id": "m119MalQtzJt",
        "colab_type": "code",
        "colab": {
          "base_uri": "https://localhost:8080/",
          "height": 68
        },
        "outputId": "e9d6fc7e-73f7-4e48-ffd2-bc32b8dd1b1f"
      },
      "source": [
        "import numpy as np\n",
        "corr_matrix = df.corr().abs()\n",
        "\n",
        "#the matrix is symmetric so we need to extract upper triangle matrix without diagonal (k = 1)\n",
        "sol = (corr_matrix.where(np.triu(np.ones(corr_matrix.shape), k=1).astype(np.bool))\n",
        "                 .stack()\n",
        "                 .sort_values(ascending=False))\n",
        "sol[:2]"
      ],
      "execution_count": 7,
      "outputs": [
        {
          "output_type": "execute_result",
          "data": {
            "text/plain": [
              "METALLOTHIONEIN        METALLOTHIONEIN          0.989404\n",
              "RIBOSOMAL PROTEIN S1B  RIBOSOMAL PROTEIN S1A    0.977169\n",
              "dtype: float64"
            ]
          },
          "metadata": {
            "tags": []
          },
          "execution_count": 7
        }
      ]
    },
    {
      "cell_type": "code",
      "metadata": {
        "id": "J_qvC2uuuhCI",
        "colab_type": "code",
        "colab": {
          "base_uri": "https://localhost:8080/",
          "height": 296
        },
        "outputId": "489b8c0b-21b2-48fb-f206-edabb3f82e22"
      },
      "source": [
        "df.plot.scatter('RIBOSOMAL PROTEIN S1A','RIBOSOMAL PROTEIN S1B')"
      ],
      "execution_count": 6,
      "outputs": [
        {
          "output_type": "execute_result",
          "data": {
            "text/plain": [
              "<matplotlib.axes._subplots.AxesSubplot at 0x7f1565008518>"
            ]
          },
          "metadata": {
            "tags": []
          },
          "execution_count": 6
        },
        {
          "output_type": "display_data",
          "data": {
            "image/png": "[encoded data removed]",
            "text/plain": [
              "<Figure size 432x288 with 1 Axes>"
            ]
          },
          "metadata": {
            "tags": [],
            "needs_background": "light"
          }
        }
      ]
    },
    {
      "cell_type": "code",
      "metadata": {
        "id": "bn-wTYh4wTy1",
        "colab_type": "code",
        "colab": {}
      },
      "source": [
        ""
      ],
      "execution_count": 0,
      "outputs": []
    }
  ]
}